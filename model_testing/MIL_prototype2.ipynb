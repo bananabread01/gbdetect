{
  "nbformat": 4,
  "nbformat_minor": 0,
  "metadata": {
    "colab": {
      "provenance": [],
      "machine_shape": "hm",
      "gpuType": "T4"
    },
    "kernelspec": {
      "name": "python3",
      "display_name": "Python 3"
    },
    "language_info": {
      "name": "python"
    },
    "accelerator": "GPU"
  },
  "cells": [
    {
      "cell_type": "code",
      "source": [
        "import os\n",
        "import shutil\n",
        "import numpy as np\n",
        "import matplotlib.pyplot as plt\n",
        "import seaborn as sns\n",
        "import cv2  # used for resizing attention maps\n",
        "from PIL import Image\n",
        "import torch\n",
        "import torch.nn as nn\n",
        "import torch.nn.functional as F\n",
        "import torch.optim as optim\n",
        "from torch.utils.data import DataLoader, Dataset, Subset, WeightedRandomSampler\n",
        "import torchvision\n",
        "from torchvision import transforms, datasets, models\n",
        "from sklearn.metrics import accuracy_score, confusion_matrix\n",
        "from sklearn.model_selection import train_test_split"
      ],
      "metadata": {
        "id": "jD8rWq1MYnMf"
      },
      "execution_count": null,
      "outputs": []
    },
    {
      "cell_type": "code",
      "source": [
        "gpu_info = !nvidia-smi\n",
        "gpu_info = '\\n'.join(gpu_info)\n",
        "if gpu_info.find('failed') >= 0:\n",
        "  print('Not connected to a GPU')\n",
        "else:\n",
        "  print(gpu_info)"
      ],
      "metadata": {
        "colab": {
          "base_uri": "https://localhost:8080/"
        },
        "id": "13U7rETHZFIl",
        "outputId": "f100ce68-cca5-477f-c10b-c80b67be4ba0"
      },
      "execution_count": null,
      "outputs": [
        {
          "output_type": "stream",
          "name": "stdout",
          "text": [
            "Tue Mar 11 18:12:56 2025       \n",
            "+-----------------------------------------------------------------------------------------+\n",
            "| NVIDIA-SMI 550.54.15              Driver Version: 550.54.15      CUDA Version: 12.4     |\n",
            "|-----------------------------------------+------------------------+----------------------+\n",
            "| GPU  Name                 Persistence-M | Bus-Id          Disp.A | Volatile Uncorr. ECC |\n",
            "| Fan  Temp   Perf          Pwr:Usage/Cap |           Memory-Usage | GPU-Util  Compute M. |\n",
            "|                                         |                        |               MIG M. |\n",
            "|=========================================+========================+======================|\n",
            "|   0  Tesla T4                       Off |   00000000:00:04.0 Off |                    0 |\n",
            "| N/A   42C    P8             10W /   70W |       0MiB /  15360MiB |      0%      Default |\n",
            "|                                         |                        |                  N/A |\n",
            "+-----------------------------------------+------------------------+----------------------+\n",
            "                                                                                         \n",
            "+-----------------------------------------------------------------------------------------+\n",
            "| Processes:                                                                              |\n",
            "|  GPU   GI   CI        PID   Type   Process name                              GPU Memory |\n",
            "|        ID   ID                                                               Usage      |\n",
            "|=========================================================================================|\n",
            "|  No running processes found                                                             |\n",
            "+-----------------------------------------------------------------------------------------+\n"
          ]
        }
      ]
    },
    {
      "cell_type": "code",
      "source": [
        "device = torch.device(\"cuda\" if torch.cuda.is_available() else \"cpu\")\n",
        "print(f\"Using device: {device}\")\n",
        "\n",
        "from google.colab import drive\n",
        "drive.mount('/content/drive')"
      ],
      "metadata": {
        "colab": {
          "base_uri": "https://localhost:8080/"
        },
        "id": "d1wctPbHYqGf",
        "outputId": "ef215e10-d8d9-4a35-f546-62c07045a2b7"
      },
      "execution_count": null,
      "outputs": [
        {
          "output_type": "stream",
          "name": "stdout",
          "text": [
            "Using device: cuda\n",
            "Mounted at /content/drive\n"
          ]
        }
      ]
    },
    {
      "cell_type": "code",
      "source": [
        "import torchvision.models as models\n",
        "\n",
        "class MILImageFolder(Dataset):\n",
        "    def __init__(self, root, transform, bag_size=10):\n",
        "\n",
        "        self.dataset = datasets.ImageFolder(root=root, transform=transform)\n",
        "        self.bag_size = bag_size\n",
        "\n",
        "        self.label_to_indices = {}\n",
        "        for idx, (_, label) in enumerate(self.dataset.samples):\n",
        "            self.label_to_indices.setdefault(label, []).append(idx)\n",
        "\n",
        "        self.bags = []\n",
        "        for label, indices in self.label_to_indices.items():\n",
        "            np.random.shuffle(indices)\n",
        "            for i in range(0, len(indices) - bag_size + 1, bag_size):\n",
        "                bag_indices = indices[i:i + bag_size]\n",
        "                self.bags.append((bag_indices, label))\n",
        "        np.random.shuffle(self.bags)\n",
        "\n",
        "        self.targets = np.array([label for (_, label) in self.bags])\n",
        "\n",
        "    def __len__(self):\n",
        "        return len(self.bags)\n",
        "\n",
        "    def __getitem__(self, index):\n",
        "        bag_indices, bag_label = self.bags[index]\n",
        "        bag_images = [self.dataset[i][0] for i in bag_indices]\n",
        "        bag_tensor = torch.stack(bag_images)\n",
        "        return bag_tensor, bag_label\n",
        "\n",
        "\n",
        "#model\n",
        "class Attention(nn.Module):\n",
        "    def __init__(self, num_classes=3):\n",
        "        super(Attention, self).__init__()\n",
        "        self.L = 512  # Size of the fully-connected layer\n",
        "        self.D = 128  # Attention layer size\n",
        "        self.K = 1    # Number of attention heads\n",
        "\n",
        "        resnet = models.resnet18(pretrained=True)\n",
        "        # Remove the last fully connected layer\n",
        "        self.feature_extractor = nn.Sequential(*list(resnet.children())[:-2])\n",
        "        self.pool = nn.AdaptiveAvgPool2d((30, 30))\n",
        "\n",
        "\n",
        "        self.feature_extractor_part2 = nn.Sequential(\n",
        "            nn.Linear(512 * 30 * 30, self.L),\n",
        "            nn.ReLU(),\n",
        "            nn.Dropout(0.5),\n",
        "            nn.Linear(self.L, self.L),\n",
        "            nn.ReLU(),\n",
        "            nn.Dropout(0.5)\n",
        "        )\n",
        "\n",
        "        self.attention = nn.Sequential(\n",
        "            nn.Linear(self.L, self.D),\n",
        "            nn.Tanh(),\n",
        "            nn.Linear(self.D, self.K)\n",
        "        )\n",
        "\n",
        "        self.classifier = nn.Linear(self.L * self.K, num_classes)\n",
        "\n",
        "    def forward(self, x):\n",
        "\n",
        "        B, bag_size, C, H, W = x.shape\n",
        "        x = x.view(B * bag_size, C, H, W)\n",
        "        features = self.feature_extractor(x)\n",
        "        features = self.pool(features)\n",
        "        features = features.view(B * bag_size, -1)\n",
        "        H_features = self.feature_extractor_part2(features)\n",
        "        H_features = H_features.view(B, bag_size, -1)\n",
        "\n",
        "        A = self.attention(H_features.view(B * bag_size, -1))\n",
        "        A = A.view(B, bag_size, self.K).transpose(1, 2)\n",
        "        A = F.softmax(A, dim=2)\n",
        "\n",
        "        M = torch.bmm(A, H_features)  # (B, K, L)\n",
        "        M = M.view(B, -1)  # (B, K*L)\n",
        "        logits = self.classifier(M)\n",
        "        probs = torch.softmax(logits, dim=1)\n",
        "        return logits, probs, A\n",
        "\n",
        "    def calculate_classification_error(self, X, Y):\n",
        "        logits, _, _ = self.forward(X)\n",
        "        preds = torch.argmax(logits, dim=1)\n",
        "        error = 1.0 - preds.eq(Y).cpu().float().mean().item()\n",
        "        return error, preds\n",
        "\n",
        "    def calculate_objective(self, X, Y):\n",
        "        logits, _, A = self.forward(X)\n",
        "        criterion = nn.CrossEntropyLoss()\n",
        "        loss = criterion(logits, Y)\n",
        "        return loss, A\n"
      ],
      "metadata": {
        "id": "hpv29moxYrh1"
      },
      "execution_count": null,
      "outputs": []
    },
    {
      "cell_type": "code",
      "source": [
        "train_transforms = transforms.Compose([\n",
        "    transforms.Resize((224, 224)),\n",
        "    transforms.RandomHorizontalFlip(),\n",
        "    transforms.RandomVerticalFlip(),\n",
        "    transforms.RandomRotation(20),\n",
        "    transforms.ToTensor()\n",
        "])\n",
        "\n",
        "test_transforms = transforms.Compose([\n",
        "    transforms.Resize((224, 224)),\n",
        "    transforms.ToTensor()\n",
        "])\n",
        "\n",
        "# Dataset directories\n",
        "train_augmented_dir = '/content/drive/MyDrive/GBCUD/dataset/train'\n",
        "output_test_folder = '/content/drive/MyDrive/GBCUD/dataset/test'\n",
        "\n",
        "\n",
        "train_dataset = MILImageFolder(root=train_augmented_dir, transform=train_transforms, bag_size=10)\n",
        "test_dataset = MILImageFolder(root=output_test_folder, transform=test_transforms, bag_size=10)\n",
        "\n",
        "# stratified train/validation split on bag labels\n",
        "targets = train_dataset.targets\n",
        "train_idx, val_idx = train_test_split(\n",
        "    np.arange(len(targets)),\n",
        "    test_size=0.2,\n",
        "    stratify=targets,\n",
        "    random_state=42\n",
        ")\n",
        "\n",
        "train_subset = Subset(train_dataset, train_idx)\n",
        "val_subset = Subset(train_dataset, val_idx)\n",
        "\n",
        "# weighted sampler for the training subset\n",
        "train_targets = targets[train_idx]\n",
        "class_counts = np.bincount(train_targets)\n",
        "sample_weights = np.array([1.0 / class_counts[label] for label in train_targets])\n",
        "sampler = WeightedRandomSampler(sample_weights, len(sample_weights), replacement=True)"
      ],
      "metadata": {
        "id": "alKLz8ZjY1pt"
      },
      "execution_count": null,
      "outputs": []
    },
    {
      "cell_type": "code",
      "execution_count": null,
      "metadata": {
        "colab": {
          "base_uri": "https://localhost:8080/"
        },
        "id": "tjc4yRgKFEVT",
        "outputId": "58117f18-4f89-49bd-c0d3-99b202c35145"
      },
      "outputs": [
        {
          "output_type": "stream",
          "name": "stderr",
          "text": [
            "/usr/local/lib/python3.11/dist-packages/torchvision/models/_utils.py:208: UserWarning: The parameter 'pretrained' is deprecated since 0.13 and may be removed in the future, please use 'weights' instead.\n",
            "  warnings.warn(\n",
            "/usr/local/lib/python3.11/dist-packages/torchvision/models/_utils.py:223: UserWarning: Arguments other than a weight enum or `None` for 'weights' are deprecated since 0.13 and may be removed in the future. The current behavior is equivalent to passing `weights=ResNet18_Weights.IMAGENET1K_V1`. You can also use `weights=ResNet18_Weights.DEFAULT` to get the most up-to-date weights.\n",
            "  warnings.warn(msg)\n"
          ]
        },
        {
          "output_type": "stream",
          "name": "stdout",
          "text": [
            "Epoch Loss: 1.5109\n",
            "Epoch 1/50, Train Loss: 1.5109, Val Loss: 1.0896, Val Accuracy: 0.3913\n",
            "Epoch Loss: 1.4200\n",
            "Epoch 2/50, Train Loss: 1.4200, Val Loss: 1.2026, Val Accuracy: 0.2174\n",
            "Epoch Loss: 1.3798\n",
            "Epoch 3/50, Train Loss: 1.3798, Val Loss: 1.1427, Val Accuracy: 0.4348\n",
            "Epoch Loss: 1.3430\n",
            "Epoch 4/50, Train Loss: 1.3430, Val Loss: 0.9223, Val Accuracy: 0.3913\n",
            "Epoch Loss: 1.0351\n",
            "Epoch 5/50, Train Loss: 1.0351, Val Loss: 0.8341, Val Accuracy: 0.6957\n",
            "Epoch Loss: 0.9908\n",
            "Epoch 6/50, Train Loss: 0.9908, Val Loss: 0.7780, Val Accuracy: 0.5652\n",
            "Epoch Loss: 0.8102\n",
            "Epoch 7/50, Train Loss: 0.8102, Val Loss: 0.8206, Val Accuracy: 0.5217\n",
            "Epoch Loss: 0.6859\n",
            "Epoch 8/50, Train Loss: 0.6859, Val Loss: 0.5539, Val Accuracy: 0.8261\n",
            "Epoch Loss: 0.6778\n",
            "Epoch 9/50, Train Loss: 0.6778, Val Loss: 1.0596, Val Accuracy: 0.5652\n",
            "Epoch Loss: 0.6678\n",
            "Epoch 10/50, Train Loss: 0.6678, Val Loss: 0.6182, Val Accuracy: 0.5652\n",
            "Epoch Loss: 0.6555\n",
            "Epoch 11/50, Train Loss: 0.6555, Val Loss: 0.5100, Val Accuracy: 0.8696\n",
            "Epoch Loss: 0.4934\n",
            "Epoch 12/50, Train Loss: 0.4934, Val Loss: 0.5106, Val Accuracy: 0.7391\n",
            "Epoch Loss: 0.5277\n",
            "Epoch 13/50, Train Loss: 0.5277, Val Loss: 0.3910, Val Accuracy: 0.9130\n",
            "Epoch Loss: 0.4921\n",
            "Epoch 14/50, Train Loss: 0.4921, Val Loss: 0.6516, Val Accuracy: 0.6522\n",
            "Epoch Loss: 0.5236\n",
            "Epoch 15/50, Train Loss: 0.5236, Val Loss: 0.6020, Val Accuracy: 0.6957\n",
            "Epoch Loss: 0.4514\n",
            "Epoch 16/50, Train Loss: 0.4514, Val Loss: 0.3855, Val Accuracy: 0.8696\n",
            "Epoch Loss: 0.4499\n",
            "Epoch 17/50, Train Loss: 0.4499, Val Loss: 0.4820, Val Accuracy: 0.7391\n",
            "Epoch Loss: 0.4635\n",
            "Epoch 18/50, Train Loss: 0.4635, Val Loss: 0.6944, Val Accuracy: 0.6522\n",
            "Epoch Loss: 0.4131\n",
            "Epoch 19/50, Train Loss: 0.4131, Val Loss: 0.4402, Val Accuracy: 0.7826\n",
            "Epoch Loss: 0.2655\n",
            "Epoch 20/50, Train Loss: 0.2655, Val Loss: 0.3949, Val Accuracy: 0.7826\n",
            "Epoch Loss: 0.3872\n",
            "Epoch 21/50, Train Loss: 0.3872, Val Loss: 0.4135, Val Accuracy: 0.8261\n",
            "Epoch Loss: 0.2796\n",
            "Epoch 22/50, Train Loss: 0.2796, Val Loss: 0.3006, Val Accuracy: 0.8696\n",
            "Epoch Loss: 0.2858\n",
            "Epoch 23/50, Train Loss: 0.2858, Val Loss: 0.1911, Val Accuracy: 0.9130\n",
            "Epoch Loss: 0.2875\n",
            "Epoch 24/50, Train Loss: 0.2875, Val Loss: 0.4596, Val Accuracy: 0.7391\n",
            "Epoch Loss: 0.2097\n",
            "Epoch 25/50, Train Loss: 0.2097, Val Loss: 0.3573, Val Accuracy: 0.8261\n",
            "Epoch Loss: 0.2143\n",
            "Epoch 26/50, Train Loss: 0.2143, Val Loss: 0.3374, Val Accuracy: 0.8261\n",
            "Epoch Loss: 0.1581\n",
            "Epoch 27/50, Train Loss: 0.1581, Val Loss: 0.2294, Val Accuracy: 0.8261\n",
            "Epoch Loss: 0.1606\n",
            "Epoch 28/50, Train Loss: 0.1606, Val Loss: 0.1438, Val Accuracy: 1.0000\n",
            "Epoch Loss: 0.1120\n",
            "Epoch 29/50, Train Loss: 0.1120, Val Loss: 0.3299, Val Accuracy: 0.8696\n",
            "Epoch Loss: 0.1938\n",
            "Epoch 30/50, Train Loss: 0.1938, Val Loss: 0.3525, Val Accuracy: 0.7826\n",
            "Epoch Loss: 0.1626\n",
            "Epoch 31/50, Train Loss: 0.1626, Val Loss: 0.1323, Val Accuracy: 0.9565\n",
            "Epoch Loss: 0.1318\n",
            "Epoch 32/50, Train Loss: 0.1318, Val Loss: 0.5809, Val Accuracy: 0.7391\n",
            "Epoch Loss: 0.1540\n",
            "Epoch 33/50, Train Loss: 0.1540, Val Loss: 0.0848, Val Accuracy: 1.0000\n",
            "Epoch Loss: 0.0699\n",
            "Epoch 34/50, Train Loss: 0.0699, Val Loss: 0.1557, Val Accuracy: 0.9565\n",
            "Epoch Loss: 0.0432\n",
            "Epoch 35/50, Train Loss: 0.0432, Val Loss: 0.0901, Val Accuracy: 1.0000\n",
            "Epoch Loss: 0.0492\n",
            "Epoch 36/50, Train Loss: 0.0492, Val Loss: 0.4810, Val Accuracy: 0.8696\n",
            "Epoch Loss: 0.2266\n",
            "Epoch 37/50, Train Loss: 0.2266, Val Loss: 0.2373, Val Accuracy: 0.8261\n",
            "Epoch Loss: 0.1893\n",
            "Epoch 38/50, Train Loss: 0.1893, Val Loss: 0.1202, Val Accuracy: 1.0000\n",
            "Epoch Loss: 0.1139\n",
            "Epoch 39/50, Train Loss: 0.1139, Val Loss: 0.1867, Val Accuracy: 0.9130\n",
            "Epoch Loss: 0.0435\n",
            "Epoch 40/50, Train Loss: 0.0435, Val Loss: 0.3714, Val Accuracy: 0.8261\n",
            "Epoch Loss: 0.0778\n",
            "Epoch 41/50, Train Loss: 0.0778, Val Loss: 0.5553, Val Accuracy: 0.7826\n",
            "Epoch Loss: 0.0561\n",
            "Epoch 42/50, Train Loss: 0.0561, Val Loss: 0.1810, Val Accuracy: 0.9565\n",
            "Epoch Loss: 0.1233\n",
            "Epoch 43/50, Train Loss: 0.1233, Val Loss: 0.0909, Val Accuracy: 0.9565\n",
            "Early stopping triggered.\n"
          ]
        },
        {
          "output_type": "execute_result",
          "data": {
            "text/plain": [
              "<All keys matched successfully>"
            ]
          },
          "metadata": {},
          "execution_count": 28
        }
      ],
      "source": [
        "\n",
        "# Hyperparameters\n",
        "best_dropout = 0.5\n",
        "best_lr = 1e-5\n",
        "# each sample is a bag\n",
        "best_batch_size = 1\n",
        "\n",
        "final_model = Attention(num_classes=3).to(device)\n",
        "\n",
        "criterion = nn.CrossEntropyLoss(weight=torch.tensor([0.8, 0.6, 3.0], device=device))\n",
        "optimizer = optim.Adam(final_model.parameters(), lr=best_lr, weight_decay=1e-5)\n",
        "\n",
        "# DataLoaders\n",
        "train_loader = DataLoader(train_subset, batch_size=best_batch_size, sampler=sampler)\n",
        "val_loader = DataLoader(val_subset, batch_size=best_batch_size, shuffle=False)\n",
        "test_loader = DataLoader(test_dataset, batch_size=best_batch_size, shuffle=False)\n",
        "\n",
        "patience = 10\n",
        "best_val_loss = np.inf\n",
        "patience_counter = 0\n",
        "best_model_wts = None\n",
        "epochs = 50\n",
        "\n",
        "for epoch in range(epochs):\n",
        "    final_model.train()\n",
        "    running_loss = 0.0\n",
        "    for bags, labels in train_loader:\n",
        "        # bags: shape (B, bag_size, 3, 224, 224), labels: shape (B,)\n",
        "        bags = bags.to(device)\n",
        "        labels = labels.to(device)\n",
        "\n",
        "        optimizer.zero_grad()\n",
        "        logits, _, _ = final_model(bags)  # logits shape: (B, num_classes)\n",
        "        loss = criterion(logits, labels)\n",
        "        loss.backward()\n",
        "        optimizer.step()\n",
        "        # Multiply by bag_size since one bag contains multiple images.\n",
        "        running_loss += loss.item() * bags.size(0)\n",
        "    epoch_loss = running_loss / len(train_subset)\n",
        "    print(f\"Epoch Loss: {epoch_loss:.4f}\")\n",
        "\n",
        "    # Validation pass\n",
        "    final_model.eval()\n",
        "    val_loss = 0.0\n",
        "    val_correct = 0\n",
        "    total_val_samples = 0\n",
        "    with torch.no_grad():\n",
        "        for bags, labels in val_loader:\n",
        "            bags = bags.to(device)\n",
        "            labels = labels.to(device)\n",
        "            logits, _, _ = final_model(bags)\n",
        "            loss = criterion(logits, labels)\n",
        "            val_loss += loss.item() * bags.size(0)\n",
        "            preds = torch.argmax(logits, dim=1)\n",
        "            val_correct += (preds == labels).sum().item()\n",
        "            total_val_samples += labels.size(0)\n",
        "    val_loss /= total_val_samples\n",
        "    val_accuracy = val_correct / total_val_samples\n",
        "\n",
        "    print(f\"Epoch {epoch+1}/{epochs}, \"\n",
        "          f\"Train Loss: {epoch_loss:.4f}, \"\n",
        "          f\"Val Loss: {val_loss:.4f}, \"\n",
        "          f\"Val Accuracy: {val_accuracy:.4f}\")\n",
        "\n",
        "    if val_loss < best_val_loss:\n",
        "        best_val_loss = val_loss\n",
        "        patience_counter = 0\n",
        "        best_model_wts = final_model.state_dict()\n",
        "    else:\n",
        "        patience_counter += 1\n",
        "        if patience_counter >= patience:\n",
        "            print(\"Early stopping triggered.\")\n",
        "            break\n",
        "\n",
        "# Load best model weights after training.\n",
        "final_model.load_state_dict(best_model_wts)"
      ]
    },
    {
      "cell_type": "code",
      "source": [
        "from sklearn.metrics import (accuracy_score, precision_score, recall_score,\n",
        "                             f1_score, roc_auc_score, confusion_matrix, roc_curve,\n",
        "                             auc, precision_recall_curve)\n",
        "# Evaluation\n",
        "final_model.eval()\n",
        "all_preds, all_labels = [], []\n",
        "with torch.no_grad():\n",
        "    for bags, labels in test_loader:\n",
        "        bags = bags.to(device)\n",
        "        logits, _, _ = final_model(bags)\n",
        "        preds = torch.argmax(logits, dim=1).cpu().numpy()\n",
        "        all_preds.extend(preds)\n",
        "        all_labels.extend(labels.numpy())\n",
        "\n",
        "accuracy = accuracy_score(all_labels, all_preds)\n",
        "prec = precision_score(all_labels, all_preds, average='macro')\n",
        "rec = recall_score(all_labels, all_preds, average='macro')\n",
        "f1 = f1_score(all_labels, all_preds, average='macro')\n",
        "cmatrix = confusion_matrix(all_labels, all_preds)\n",
        "\n",
        "print(f\"\\nEvaluation Metrics:\")\n",
        "print(f\"Final Test Accuracy (Attention MIL): {accuracy:.4f}\")\n",
        "print(f\"Precision: {prec:.4f}\")\n",
        "print(f\"Recall: {rec:.4f}\")\n",
        "print(f\"F1 Score: {f1:.4f}\")\n",
        "print(\"Confusion Matrix:\")\n",
        "print(cmatrix)\n",
        "\n",
        "cm = confusion_matrix(all_labels, all_preds)\n",
        "sns.heatmap(cm, annot=True, cmap='Blues', fmt='d',\n",
        "            xticklabels=test_dataset.dataset.classes, yticklabels=test_dataset.dataset.classes)\n",
        "plt.xlabel('Predicted Label')\n",
        "plt.ylabel('True Label')\n",
        "plt.title('Test Set Confusion Matrix (Attention MIL)')\n",
        "plt.show()\n"
      ],
      "metadata": {
        "colab": {
          "base_uri": "https://localhost:8080/",
          "height": 646
        },
        "id": "w066IahhY5-5",
        "outputId": "b0bee593-a246-4791-a8f5-4274e006c3fb"
      },
      "execution_count": null,
      "outputs": [
        {
          "output_type": "stream",
          "name": "stdout",
          "text": [
            "\n",
            "Evaluation Metrics:\n",
            "Final Test Accuracy (Attention MIL): 0.7273\n",
            "Precision: 0.7778\n",
            "Recall: 0.7222\n",
            "F1 Score: 0.7238\n",
            "Confusion Matrix:\n",
            "[[2 1 0]\n",
            " [0 2 2]\n",
            " [0 0 4]]\n"
          ]
        },
        {
          "output_type": "display_data",
          "data": {
            "text/plain": [
              "<Figure size 640x480 with 2 Axes>"
            ],
            "image/png": "[encoded data removed]"
          },
          "metadata": {}
        }
      ]
    },
    {
      "cell_type": "code",
      "source": [
        "def plot_training_history(train_losses, val_losses, val_acc):\n",
        "    fig, (ax1, ax2) = plt.subplots(1, 2, figsize=(15, 5))\n",
        "    # Accuracy plot\n",
        "    # ax1.plot(train_acc, label='Training Accuracy')\n",
        "    ax1.plot(val_acc, label='Validation Accuracy')\n",
        "    ax1.set_title('Model Accuracy')\n",
        "    ax1.set_xlabel('Epoch')\n",
        "    ax1.set_ylabel('Accuracy')\n",
        "    ax1.legend()\n",
        "    # Loss plot\n",
        "    ax2.plot(train_losses, label='Training Loss')\n",
        "    ax2.plot(val_losses, label='Validation Loss')\n",
        "    ax2.set_title('Model Loss')\n",
        "    ax2.set_xlabel('Epoch')\n",
        "    ax2.set_ylabel('Loss')\n",
        "    ax2.legend()\n",
        "    plt.tight_layout()\n",
        "    plt.show()\n",
        "\n",
        "\n",
        "# Plot training history and confusion matrix\n",
        "plot_training_history(epoch_loss, val_loss, val_accuracy)"
      ],
      "metadata": {
        "colab": {
          "base_uri": "https://localhost:8080/",
          "height": 507
        },
        "id": "jeYM_Nwu2J-p",
        "outputId": "28c1e2c5-1525-45ee-d2c2-7a83857236f8"
      },
      "execution_count": null,
      "outputs": [
        {
          "output_type": "display_data",
          "data": {
            "text/plain": [
              "<Figure size 1500x500 with 2 Axes>"
            ],
            "image/png": "[encoded data removed]"
          },
          "metadata": {}
        }
      ]
    },
    {
      "cell_type": "code",
      "source": [
        "save_path = '/content/drive/MyDrive/GBCUD/MILprototype2.pth'\n",
        "torch.save(final_model.state_dict(), save_path)\n",
        "print(f\"Model saved to {save_path}\")"
      ],
      "metadata": {
        "colab": {
          "base_uri": "https://localhost:8080/"
        },
        "id": "tMCVFZgEZT4z",
        "outputId": "e9e30ed3-a3f4-4f02-c38a-94de56ec7181"
      },
      "execution_count": null,
      "outputs": [
        {
          "output_type": "stream",
          "name": "stdout",
          "text": [
            "Model saved to /content/drive/MyDrive/GBCUD/MILprototype2.pth\n"
          ]
        }
      ]
    }
  ]
}